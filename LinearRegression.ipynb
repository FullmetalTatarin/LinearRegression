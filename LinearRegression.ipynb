{
 "cells": [
  {
   "cell_type": "markdown",
   "id": "e4bca111",
   "metadata": {},
   "source": [
    "<h2>Импортируем основные библиотеки и напишем реализацию линейной регрессии"
   ]
  },
  {
   "cell_type": "code",
   "execution_count": 21,
   "id": "d20659d1",
   "metadata": {
    "scrolled": false
   },
   "outputs": [],
   "source": [
    "import numpy as np\n",
    "from sklearn import datasets, linear_model\n",
    "import matplotlib.pyplot as plt\n",
    "from mpl_toolkits.axisartist.axislines import SubplotZero\n",
    "\n",
    "\n",
    "class LinearRegressor:\n",
    "    def __init__(self, number_of_coefs):\n",
    "        self.w = np.ones(number_of_coefs)\n",
    "        self.b = 1.0\n",
    "\n",
    "    def predict(self, x):\n",
    "        return np.dot(x, self.w) + self.b\n",
    "\n",
    "    def MSE(self, X, y):\n",
    "        sum_of_squares = 0\n",
    "        for i in range(len(X)):\n",
    "            sum_of_squares += (self.predict(X[i]) - y[i])**2\n",
    "        return 1/len(X) * sum_of_squares\n",
    "\n",
    "    def calc_gradient(self, X, y):\n",
    "        b = 0\n",
    "        w = np.zeros(len(X[0]))\n",
    "        for i in range(len(X)):\n",
    "            b += (self.predict(X[i]) - y[i])\n",
    "            w += (self.predict(X[i]) - y[i]) * (X[i])\n",
    "        b /= len(X)\n",
    "        w /= len(X)\n",
    "        return w, b\n",
    "\n",
    "    def fit(self, X, y, epsilon, learning_rate):\n",
    "        mse_old = 0\n",
    "        mse = self.MSE(X, y)\n",
    "        while abs(mse - mse_old) > epsilon:\n",
    "            mse_old = self.MSE(X, y)\n",
    "            gradient = self.calc_gradient(X, y)\n",
    "            self.b = self.b - learning_rate * gradient[1]\n",
    "            self.w = self.w - learning_rate * gradient[0]\n",
    "            mse = self.MSE(X, y)\n",
    "        # print(mse, self.b, self.w)\n"
   ]
  },
  {
   "cell_type": "markdown",
   "id": "81279110",
   "metadata": {},
   "source": [
    "<h2>Создадим набор данных(т.е. набор точек) со случайным шумом"
   ]
  },
  {
   "cell_type": "code",
   "execution_count": 22,
   "id": "462594cd",
   "metadata": {},
   "outputs": [],
   "source": [
    "X, y = datasets.make_regression(n_samples=100, n_features=1, noise=8, shuffle=True)"
   ]
  },
  {
   "cell_type": "markdown",
   "id": "52a58297",
   "metadata": {},
   "source": [
    "<h2>Обучим модель на созданных данных и сделаем предсказания"
   ]
  },
  {
   "cell_type": "code",
   "execution_count": 27,
   "id": "4ea654b5",
   "metadata": {},
   "outputs": [],
   "source": [
    "regressor = LinearRegressor(1)\n",
    "regressor.fit(X, y, 0.5, 1)\n",
    "Y_pred = []\n",
    "for x in X:\n",
    "    Y_pred.append(regressor.predict(x))"
   ]
  },
  {
   "cell_type": "markdown",
   "id": "89ccb01a",
   "metadata": {},
   "source": [
    "<h2>Построим в системе координат полученную прямую и точки из набора данных"
   ]
  },
  {
   "cell_type": "code",
   "execution_count": 28,
   "id": "35c1067f",
   "metadata": {},
   "outputs": [
    {
     "data": {
      "image/png": "[encoded data removed]",
      "text/plain": [
       "<Figure size 432x288 with 1 Axes>"
      ]
     },
     "metadata": {
      "needs_background": "light"
     },
     "output_type": "display_data"
    }
   ],
   "source": [
    "fig = plt.figure(1)\n",
    "ax = SubplotZero(fig, 111)\n",
    "fig.add_subplot(ax)\n",
    "\n",
    "for direction in [\"xzero\", \"yzero\"]:\n",
    "     ax.axis[direction].set_axisline_style(\"-|>\")\n",
    "     ax.axis[direction].set_visible(True)\n",
    "\n",
    "for direction in [\"left\", \"right\", \"bottom\", \"top\"]:\n",
    "    ax.axis[direction].set_visible(True)\n",
    "\n",
    "    ax.scatter(X, y, color='red', s=5)\n",
    "    ax.plot(X, Y_pred, color='blue', linewidth=2)\n",
    "\n",
    "    plt.show()\n",
    " "
   ]
  },
  {
   "cell_type": "markdown",
   "id": "9f34270e",
   "metadata": {},
   "source": [
    "<h2>Выведем полученные коэффициенты"
   ]
  },
  {
   "cell_type": "code",
   "execution_count": 29,
   "id": "44fdec60",
   "metadata": {
    "scrolled": true
   },
   "outputs": [
    {
     "name": "stdout",
     "output_type": "stream",
     "text": [
      "[78.50508985] 0.3764338119189168\n"
     ]
    }
   ],
   "source": [
    "print(regressor.w, regressor.b)"
   ]
  },
  {
   "cell_type": "code",
   "execution_count": 30,
   "id": "91095716",
   "metadata": {},
   "outputs": [
    {
     "data": {
      "text/plain": [
       "74.61263481428647"
      ]
     },
     "execution_count": 30,
     "metadata": {},
     "output_type": "execute_result"
    }
   ],
   "source": [
    "regressor.MSE(X, y)"
   ]
  },
  {
   "cell_type": "code",
   "execution_count": null,
   "id": "01d6d587",
   "metadata": {},
   "outputs": [],
   "source": []
  }
 ],
 "metadata": {
  "kernelspec": {
   "display_name": "Python 3 (ipykernel)",
   "language": "python",
   "name": "python3"
  },
  "language_info": {
   "codemirror_mode": {
    "name": "ipython",
    "version": 3
   },
   "file_extension": ".py",
   "mimetype": "text/x-python",
   "name": "python",
   "nbconvert_exporter": "python",
   "pygments_lexer": "ipython3",
   "version": "3.10.4"
  }
 },
 "nbformat": 4,
 "nbformat_minor": 5
}
